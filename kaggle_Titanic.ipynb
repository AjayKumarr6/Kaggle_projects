{
 "cells": [
  {
   "cell_type": "code",
   "execution_count": 1,
   "id": "255c6df7",
   "metadata": {
    "_cell_guid": "b1076dfc-b9ad-4769-8c92-a6c4dae69d19",
    "_uuid": "8f2839f25d086af736a60e9eeb907d3b93b6e0e5",
    "execution": {
     "iopub.execute_input": "2023-05-20T08:04:19.509246Z",
     "iopub.status.busy": "2023-05-20T08:04:19.508817Z",
     "iopub.status.idle": "2023-05-20T08:04:21.313577Z",
     "shell.execute_reply": "2023-05-20T08:04:21.312162Z"
    },
    "papermill": {
     "duration": 1.816101,
     "end_time": "2023-05-20T08:04:21.316541",
     "exception": false,
     "start_time": "2023-05-20T08:04:19.500440",
     "status": "completed"
    },
    "tags": []
   },
   "outputs": [
    {
     "name": "stderr",
     "output_type": "stream",
     "text": [
      "/opt/conda/lib/python3.10/site-packages/scipy/__init__.py:146: UserWarning: A NumPy version >=1.16.5 and <1.23.0 is required for this version of SciPy (detected version 1.23.5\n",
      "  warnings.warn(f\"A NumPy version >={np_minversion} and <{np_maxversion}\"\n"
     ]
    }
   ],
   "source": [
    "import numpy as np \n",
    "import pandas as pd \n",
    "from sklearn.ensemble import RandomForestClassifier"
   ]
  },
  {
   "cell_type": "code",
   "execution_count": 2,
   "id": "90bbe601",
   "metadata": {
    "execution": {
     "iopub.execute_input": "2023-05-20T08:04:21.331154Z",
     "iopub.status.busy": "2023-05-20T08:04:21.330737Z",
     "iopub.status.idle": "2023-05-20T08:04:21.359092Z",
     "shell.execute_reply": "2023-05-20T08:04:21.357740Z"
    },
    "papermill": {
     "duration": 0.03901,
     "end_time": "2023-05-20T08:04:21.361905",
     "exception": false,
     "start_time": "2023-05-20T08:04:21.322895",
     "status": "completed"
    },
    "tags": []
   },
   "outputs": [],
   "source": [
    "train_data = pd.read_csv('/kaggle/input/titanic/train.csv')"
   ]
  },
  {
   "cell_type": "code",
   "execution_count": 3,
   "id": "e21e6b77",
   "metadata": {
    "execution": {
     "iopub.execute_input": "2023-05-20T08:04:21.376684Z",
     "iopub.status.busy": "2023-05-20T08:04:21.376199Z",
     "iopub.status.idle": "2023-05-20T08:04:21.415011Z",
     "shell.execute_reply": "2023-05-20T08:04:21.413878Z"
    },
    "papermill": {
     "duration": 0.049782,
     "end_time": "2023-05-20T08:04:21.417942",
     "exception": false,
     "start_time": "2023-05-20T08:04:21.368160",
     "status": "completed"
    },
    "tags": []
   },
   "outputs": [
    {
     "data": {
      "text/html": [
       "<div>\n",
       "<style scoped>\n",
       "    .dataframe tbody tr th:only-of-type {\n",
       "        vertical-align: middle;\n",
       "    }\n",
       "\n",
       "    .dataframe tbody tr th {\n",
       "        vertical-align: top;\n",
       "    }\n",
       "\n",
       "    .dataframe thead th {\n",
       "        text-align: right;\n",
       "    }\n",
       "</style>\n",
       "<table border=\"1\" class=\"dataframe\">\n",
       "  <thead>\n",
       "    <tr style=\"text-align: right;\">\n",
       "      <th></th>\n",
       "      <th>PassengerId</th>\n",
       "      <th>Survived</th>\n",
       "      <th>Pclass</th>\n",
       "      <th>Name</th>\n",
       "      <th>Sex</th>\n",
       "      <th>Age</th>\n",
       "      <th>SibSp</th>\n",
       "      <th>Parch</th>\n",
       "      <th>Ticket</th>\n",
       "      <th>Fare</th>\n",
       "      <th>Cabin</th>\n",
       "      <th>Embarked</th>\n",
       "    </tr>\n",
       "  </thead>\n",
       "  <tbody>\n",
       "    <tr>\n",
       "      <th>0</th>\n",
       "      <td>1</td>\n",
       "      <td>0</td>\n",
       "      <td>3</td>\n",
       "      <td>Braund, Mr. Owen Harris</td>\n",
       "      <td>male</td>\n",
       "      <td>22.0</td>\n",
       "      <td>1</td>\n",
       "      <td>0</td>\n",
       "      <td>A/5 21171</td>\n",
       "      <td>7.2500</td>\n",
       "      <td>NaN</td>\n",
       "      <td>S</td>\n",
       "    </tr>\n",
       "    <tr>\n",
       "      <th>1</th>\n",
       "      <td>2</td>\n",
       "      <td>1</td>\n",
       "      <td>1</td>\n",
       "      <td>Cumings, Mrs. John Bradley (Florence Briggs Th...</td>\n",
       "      <td>female</td>\n",
       "      <td>38.0</td>\n",
       "      <td>1</td>\n",
       "      <td>0</td>\n",
       "      <td>PC 17599</td>\n",
       "      <td>71.2833</td>\n",
       "      <td>C85</td>\n",
       "      <td>C</td>\n",
       "    </tr>\n",
       "    <tr>\n",
       "      <th>2</th>\n",
       "      <td>3</td>\n",
       "      <td>1</td>\n",
       "      <td>3</td>\n",
       "      <td>Heikkinen, Miss. Laina</td>\n",
       "      <td>female</td>\n",
       "      <td>26.0</td>\n",
       "      <td>0</td>\n",
       "      <td>0</td>\n",
       "      <td>STON/O2. 3101282</td>\n",
       "      <td>7.9250</td>\n",
       "      <td>NaN</td>\n",
       "      <td>S</td>\n",
       "    </tr>\n",
       "    <tr>\n",
       "      <th>3</th>\n",
       "      <td>4</td>\n",
       "      <td>1</td>\n",
       "      <td>1</td>\n",
       "      <td>Futrelle, Mrs. Jacques Heath (Lily May Peel)</td>\n",
       "      <td>female</td>\n",
       "      <td>35.0</td>\n",
       "      <td>1</td>\n",
       "      <td>0</td>\n",
       "      <td>113803</td>\n",
       "      <td>53.1000</td>\n",
       "      <td>C123</td>\n",
       "      <td>S</td>\n",
       "    </tr>\n",
       "    <tr>\n",
       "      <th>4</th>\n",
       "      <td>5</td>\n",
       "      <td>0</td>\n",
       "      <td>3</td>\n",
       "      <td>Allen, Mr. William Henry</td>\n",
       "      <td>male</td>\n",
       "      <td>35.0</td>\n",
       "      <td>0</td>\n",
       "      <td>0</td>\n",
       "      <td>373450</td>\n",
       "      <td>8.0500</td>\n",
       "      <td>NaN</td>\n",
       "      <td>S</td>\n",
       "    </tr>\n",
       "  </tbody>\n",
       "</table>\n",
       "</div>"
      ],
      "text/plain": [
       "   PassengerId  Survived  Pclass  \\\n",
       "0            1         0       3   \n",
       "1            2         1       1   \n",
       "2            3         1       3   \n",
       "3            4         1       1   \n",
       "4            5         0       3   \n",
       "\n",
       "                                                Name     Sex   Age  SibSp  \\\n",
       "0                            Braund, Mr. Owen Harris    male  22.0      1   \n",
       "1  Cumings, Mrs. John Bradley (Florence Briggs Th...  female  38.0      1   \n",
       "2                             Heikkinen, Miss. Laina  female  26.0      0   \n",
       "3       Futrelle, Mrs. Jacques Heath (Lily May Peel)  female  35.0      1   \n",
       "4                           Allen, Mr. William Henry    male  35.0      0   \n",
       "\n",
       "   Parch            Ticket     Fare Cabin Embarked  \n",
       "0      0         A/5 21171   7.2500   NaN        S  \n",
       "1      0          PC 17599  71.2833   C85        C  \n",
       "2      0  STON/O2. 3101282   7.9250   NaN        S  \n",
       "3      0            113803  53.1000  C123        S  \n",
       "4      0            373450   8.0500   NaN        S  "
      ]
     },
     "execution_count": 3,
     "metadata": {},
     "output_type": "execute_result"
    }
   ],
   "source": [
    "train_data.head()"
   ]
  },
  {
   "cell_type": "code",
   "execution_count": 4,
   "id": "0765ae43",
   "metadata": {
    "execution": {
     "iopub.execute_input": "2023-05-20T08:04:21.432981Z",
     "iopub.status.busy": "2023-05-20T08:04:21.432568Z",
     "iopub.status.idle": "2023-05-20T08:04:21.445522Z",
     "shell.execute_reply": "2023-05-20T08:04:21.444391Z"
    },
    "papermill": {
     "duration": 0.023511,
     "end_time": "2023-05-20T08:04:21.448245",
     "exception": false,
     "start_time": "2023-05-20T08:04:21.424734",
     "status": "completed"
    },
    "tags": []
   },
   "outputs": [],
   "source": [
    "test_data = pd.read_csv('/kaggle/input/titanic/test.csv')"
   ]
  },
  {
   "cell_type": "code",
   "execution_count": 5,
   "id": "fa7047c7",
   "metadata": {
    "execution": {
     "iopub.execute_input": "2023-05-20T08:04:21.463332Z",
     "iopub.status.busy": "2023-05-20T08:04:21.462641Z",
     "iopub.status.idle": "2023-05-20T08:04:21.479209Z",
     "shell.execute_reply": "2023-05-20T08:04:21.477902Z"
    },
    "papermill": {
     "duration": 0.027185,
     "end_time": "2023-05-20T08:04:21.481848",
     "exception": false,
     "start_time": "2023-05-20T08:04:21.454663",
     "status": "completed"
    },
    "tags": []
   },
   "outputs": [
    {
     "data": {
      "text/html": [
       "<div>\n",
       "<style scoped>\n",
       "    .dataframe tbody tr th:only-of-type {\n",
       "        vertical-align: middle;\n",
       "    }\n",
       "\n",
       "    .dataframe tbody tr th {\n",
       "        vertical-align: top;\n",
       "    }\n",
       "\n",
       "    .dataframe thead th {\n",
       "        text-align: right;\n",
       "    }\n",
       "</style>\n",
       "<table border=\"1\" class=\"dataframe\">\n",
       "  <thead>\n",
       "    <tr style=\"text-align: right;\">\n",
       "      <th></th>\n",
       "      <th>PassengerId</th>\n",
       "      <th>Pclass</th>\n",
       "      <th>Name</th>\n",
       "      <th>Sex</th>\n",
       "      <th>Age</th>\n",
       "      <th>SibSp</th>\n",
       "      <th>Parch</th>\n",
       "      <th>Ticket</th>\n",
       "      <th>Fare</th>\n",
       "      <th>Cabin</th>\n",
       "      <th>Embarked</th>\n",
       "    </tr>\n",
       "  </thead>\n",
       "  <tbody>\n",
       "    <tr>\n",
       "      <th>0</th>\n",
       "      <td>892</td>\n",
       "      <td>3</td>\n",
       "      <td>Kelly, Mr. James</td>\n",
       "      <td>male</td>\n",
       "      <td>34.5</td>\n",
       "      <td>0</td>\n",
       "      <td>0</td>\n",
       "      <td>330911</td>\n",
       "      <td>7.8292</td>\n",
       "      <td>NaN</td>\n",
       "      <td>Q</td>\n",
       "    </tr>\n",
       "    <tr>\n",
       "      <th>1</th>\n",
       "      <td>893</td>\n",
       "      <td>3</td>\n",
       "      <td>Wilkes, Mrs. James (Ellen Needs)</td>\n",
       "      <td>female</td>\n",
       "      <td>47.0</td>\n",
       "      <td>1</td>\n",
       "      <td>0</td>\n",
       "      <td>363272</td>\n",
       "      <td>7.0000</td>\n",
       "      <td>NaN</td>\n",
       "      <td>S</td>\n",
       "    </tr>\n",
       "    <tr>\n",
       "      <th>2</th>\n",
       "      <td>894</td>\n",
       "      <td>2</td>\n",
       "      <td>Myles, Mr. Thomas Francis</td>\n",
       "      <td>male</td>\n",
       "      <td>62.0</td>\n",
       "      <td>0</td>\n",
       "      <td>0</td>\n",
       "      <td>240276</td>\n",
       "      <td>9.6875</td>\n",
       "      <td>NaN</td>\n",
       "      <td>Q</td>\n",
       "    </tr>\n",
       "    <tr>\n",
       "      <th>3</th>\n",
       "      <td>895</td>\n",
       "      <td>3</td>\n",
       "      <td>Wirz, Mr. Albert</td>\n",
       "      <td>male</td>\n",
       "      <td>27.0</td>\n",
       "      <td>0</td>\n",
       "      <td>0</td>\n",
       "      <td>315154</td>\n",
       "      <td>8.6625</td>\n",
       "      <td>NaN</td>\n",
       "      <td>S</td>\n",
       "    </tr>\n",
       "    <tr>\n",
       "      <th>4</th>\n",
       "      <td>896</td>\n",
       "      <td>3</td>\n",
       "      <td>Hirvonen, Mrs. Alexander (Helga E Lindqvist)</td>\n",
       "      <td>female</td>\n",
       "      <td>22.0</td>\n",
       "      <td>1</td>\n",
       "      <td>1</td>\n",
       "      <td>3101298</td>\n",
       "      <td>12.2875</td>\n",
       "      <td>NaN</td>\n",
       "      <td>S</td>\n",
       "    </tr>\n",
       "  </tbody>\n",
       "</table>\n",
       "</div>"
      ],
      "text/plain": [
       "   PassengerId  Pclass                                          Name     Sex  \\\n",
       "0          892       3                              Kelly, Mr. James    male   \n",
       "1          893       3              Wilkes, Mrs. James (Ellen Needs)  female   \n",
       "2          894       2                     Myles, Mr. Thomas Francis    male   \n",
       "3          895       3                              Wirz, Mr. Albert    male   \n",
       "4          896       3  Hirvonen, Mrs. Alexander (Helga E Lindqvist)  female   \n",
       "\n",
       "    Age  SibSp  Parch   Ticket     Fare Cabin Embarked  \n",
       "0  34.5      0      0   330911   7.8292   NaN        Q  \n",
       "1  47.0      1      0   363272   7.0000   NaN        S  \n",
       "2  62.0      0      0   240276   9.6875   NaN        Q  \n",
       "3  27.0      0      0   315154   8.6625   NaN        S  \n",
       "4  22.0      1      1  3101298  12.2875   NaN        S  "
      ]
     },
     "execution_count": 5,
     "metadata": {},
     "output_type": "execute_result"
    }
   ],
   "source": [
    "test_data.head()"
   ]
  },
  {
   "cell_type": "code",
   "execution_count": 6,
   "id": "89d5a0ce",
   "metadata": {
    "execution": {
     "iopub.execute_input": "2023-05-20T08:04:21.498273Z",
     "iopub.status.busy": "2023-05-20T08:04:21.497136Z",
     "iopub.status.idle": "2023-05-20T08:04:21.511273Z",
     "shell.execute_reply": "2023-05-20T08:04:21.510400Z"
    },
    "papermill": {
     "duration": 0.025065,
     "end_time": "2023-05-20T08:04:21.513942",
     "exception": false,
     "start_time": "2023-05-20T08:04:21.488877",
     "status": "completed"
    },
    "tags": []
   },
   "outputs": [],
   "source": [
    "women = train_data[train_data.Sex=='female'].Survived\n",
    "rate_women = sum(women) / len(women)"
   ]
  },
  {
   "cell_type": "code",
   "execution_count": 7,
   "id": "92c870bc",
   "metadata": {
    "execution": {
     "iopub.execute_input": "2023-05-20T08:04:21.529623Z",
     "iopub.status.busy": "2023-05-20T08:04:21.529189Z",
     "iopub.status.idle": "2023-05-20T08:04:21.535802Z",
     "shell.execute_reply": "2023-05-20T08:04:21.534609Z"
    },
    "papermill": {
     "duration": 0.017465,
     "end_time": "2023-05-20T08:04:21.538209",
     "exception": false,
     "start_time": "2023-05-20T08:04:21.520744",
     "status": "completed"
    },
    "tags": []
   },
   "outputs": [],
   "source": [
    "men = train_data[train_data.Sex=='male'].Survived\n",
    "rate_men = sum(men) / len(men)"
   ]
  },
  {
   "cell_type": "code",
   "execution_count": 8,
   "id": "155e30a1",
   "metadata": {
    "execution": {
     "iopub.execute_input": "2023-05-20T08:04:21.554302Z",
     "iopub.status.busy": "2023-05-20T08:04:21.553434Z",
     "iopub.status.idle": "2023-05-20T08:04:21.560205Z",
     "shell.execute_reply": "2023-05-20T08:04:21.558823Z"
    },
    "papermill": {
     "duration": 0.017981,
     "end_time": "2023-05-20T08:04:21.562916",
     "exception": false,
     "start_time": "2023-05-20T08:04:21.544935",
     "status": "completed"
    },
    "tags": []
   },
   "outputs": [
    {
     "name": "stdout",
     "output_type": "stream",
     "text": [
      "% of women who survived: 0.7420382165605095\n",
      "% of men who survived: 0.18890814558058924\n"
     ]
    }
   ],
   "source": [
    "print('% of women who survived:',rate_women)\n",
    "print('% of men who survived:',rate_men)"
   ]
  },
  {
   "cell_type": "code",
   "execution_count": 9,
   "id": "18947d44",
   "metadata": {
    "execution": {
     "iopub.execute_input": "2023-05-20T08:04:21.579436Z",
     "iopub.status.busy": "2023-05-20T08:04:21.578598Z",
     "iopub.status.idle": "2023-05-20T08:04:21.586286Z",
     "shell.execute_reply": "2023-05-20T08:04:21.585141Z"
    },
    "papermill": {
     "duration": 0.01871,
     "end_time": "2023-05-20T08:04:21.588688",
     "exception": false,
     "start_time": "2023-05-20T08:04:21.569978",
     "status": "completed"
    },
    "tags": []
   },
   "outputs": [
    {
     "data": {
      "text/plain": [
       "Index(['PassengerId', 'Survived', 'Pclass', 'Name', 'Sex', 'Age', 'SibSp',\n",
       "       'Parch', 'Ticket', 'Fare', 'Cabin', 'Embarked'],\n",
       "      dtype='object')"
      ]
     },
     "execution_count": 9,
     "metadata": {},
     "output_type": "execute_result"
    }
   ],
   "source": [
    "train_data.columns"
   ]
  },
  {
   "cell_type": "code",
   "execution_count": 10,
   "id": "9fe44a0a",
   "metadata": {
    "execution": {
     "iopub.execute_input": "2023-05-20T08:04:21.605053Z",
     "iopub.status.busy": "2023-05-20T08:04:21.604191Z",
     "iopub.status.idle": "2023-05-20T08:04:21.609337Z",
     "shell.execute_reply": "2023-05-20T08:04:21.608580Z"
    },
    "papermill": {
     "duration": 0.016274,
     "end_time": "2023-05-20T08:04:21.612005",
     "exception": false,
     "start_time": "2023-05-20T08:04:21.595731",
     "status": "completed"
    },
    "tags": []
   },
   "outputs": [],
   "source": [
    "target = train_data['Survived']"
   ]
  },
  {
   "cell_type": "code",
   "execution_count": 11,
   "id": "d172acdc",
   "metadata": {
    "execution": {
     "iopub.execute_input": "2023-05-20T08:04:21.632274Z",
     "iopub.status.busy": "2023-05-20T08:04:21.631256Z",
     "iopub.status.idle": "2023-05-20T08:04:21.640445Z",
     "shell.execute_reply": "2023-05-20T08:04:21.638879Z"
    },
    "papermill": {
     "duration": 0.025166,
     "end_time": "2023-05-20T08:04:21.644233",
     "exception": false,
     "start_time": "2023-05-20T08:04:21.619067",
     "status": "completed"
    },
    "tags": []
   },
   "outputs": [],
   "source": [
    "features = ['Pclass','Sex','SibSp','Parch']"
   ]
  },
  {
   "cell_type": "code",
   "execution_count": 12,
   "id": "a1591ea3",
   "metadata": {
    "execution": {
     "iopub.execute_input": "2023-05-20T08:04:21.660495Z",
     "iopub.status.busy": "2023-05-20T08:04:21.660064Z",
     "iopub.status.idle": "2023-05-20T08:04:21.678838Z",
     "shell.execute_reply": "2023-05-20T08:04:21.677652Z"
    },
    "papermill": {
     "duration": 0.030181,
     "end_time": "2023-05-20T08:04:21.681736",
     "exception": false,
     "start_time": "2023-05-20T08:04:21.651555",
     "status": "completed"
    },
    "tags": []
   },
   "outputs": [
    {
     "data": {
      "text/html": [
       "<div>\n",
       "<style scoped>\n",
       "    .dataframe tbody tr th:only-of-type {\n",
       "        vertical-align: middle;\n",
       "    }\n",
       "\n",
       "    .dataframe tbody tr th {\n",
       "        vertical-align: top;\n",
       "    }\n",
       "\n",
       "    .dataframe thead th {\n",
       "        text-align: right;\n",
       "    }\n",
       "</style>\n",
       "<table border=\"1\" class=\"dataframe\">\n",
       "  <thead>\n",
       "    <tr style=\"text-align: right;\">\n",
       "      <th></th>\n",
       "      <th>Pclass</th>\n",
       "      <th>Sex</th>\n",
       "      <th>SibSp</th>\n",
       "      <th>Parch</th>\n",
       "    </tr>\n",
       "  </thead>\n",
       "  <tbody>\n",
       "    <tr>\n",
       "      <th>0</th>\n",
       "      <td>3</td>\n",
       "      <td>male</td>\n",
       "      <td>1</td>\n",
       "      <td>0</td>\n",
       "    </tr>\n",
       "    <tr>\n",
       "      <th>1</th>\n",
       "      <td>1</td>\n",
       "      <td>female</td>\n",
       "      <td>1</td>\n",
       "      <td>0</td>\n",
       "    </tr>\n",
       "    <tr>\n",
       "      <th>2</th>\n",
       "      <td>3</td>\n",
       "      <td>female</td>\n",
       "      <td>0</td>\n",
       "      <td>0</td>\n",
       "    </tr>\n",
       "    <tr>\n",
       "      <th>3</th>\n",
       "      <td>1</td>\n",
       "      <td>female</td>\n",
       "      <td>1</td>\n",
       "      <td>0</td>\n",
       "    </tr>\n",
       "    <tr>\n",
       "      <th>4</th>\n",
       "      <td>3</td>\n",
       "      <td>male</td>\n",
       "      <td>0</td>\n",
       "      <td>0</td>\n",
       "    </tr>\n",
       "    <tr>\n",
       "      <th>...</th>\n",
       "      <td>...</td>\n",
       "      <td>...</td>\n",
       "      <td>...</td>\n",
       "      <td>...</td>\n",
       "    </tr>\n",
       "    <tr>\n",
       "      <th>886</th>\n",
       "      <td>2</td>\n",
       "      <td>male</td>\n",
       "      <td>0</td>\n",
       "      <td>0</td>\n",
       "    </tr>\n",
       "    <tr>\n",
       "      <th>887</th>\n",
       "      <td>1</td>\n",
       "      <td>female</td>\n",
       "      <td>0</td>\n",
       "      <td>0</td>\n",
       "    </tr>\n",
       "    <tr>\n",
       "      <th>888</th>\n",
       "      <td>3</td>\n",
       "      <td>female</td>\n",
       "      <td>1</td>\n",
       "      <td>2</td>\n",
       "    </tr>\n",
       "    <tr>\n",
       "      <th>889</th>\n",
       "      <td>1</td>\n",
       "      <td>male</td>\n",
       "      <td>0</td>\n",
       "      <td>0</td>\n",
       "    </tr>\n",
       "    <tr>\n",
       "      <th>890</th>\n",
       "      <td>3</td>\n",
       "      <td>male</td>\n",
       "      <td>0</td>\n",
       "      <td>0</td>\n",
       "    </tr>\n",
       "  </tbody>\n",
       "</table>\n",
       "<p>891 rows × 4 columns</p>\n",
       "</div>"
      ],
      "text/plain": [
       "     Pclass     Sex  SibSp  Parch\n",
       "0         3    male      1      0\n",
       "1         1  female      1      0\n",
       "2         3  female      0      0\n",
       "3         1  female      1      0\n",
       "4         3    male      0      0\n",
       "..      ...     ...    ...    ...\n",
       "886       2    male      0      0\n",
       "887       1  female      0      0\n",
       "888       3  female      1      2\n",
       "889       1    male      0      0\n",
       "890       3    male      0      0\n",
       "\n",
       "[891 rows x 4 columns]"
      ]
     },
     "execution_count": 12,
     "metadata": {},
     "output_type": "execute_result"
    }
   ],
   "source": [
    "train_data[features]"
   ]
  },
  {
   "cell_type": "code",
   "execution_count": 13,
   "id": "6bca5dca",
   "metadata": {
    "execution": {
     "iopub.execute_input": "2023-05-20T08:04:21.699023Z",
     "iopub.status.busy": "2023-05-20T08:04:21.698191Z",
     "iopub.status.idle": "2023-05-20T08:04:21.712900Z",
     "shell.execute_reply": "2023-05-20T08:04:21.711990Z"
    },
    "papermill": {
     "duration": 0.026334,
     "end_time": "2023-05-20T08:04:21.715444",
     "exception": false,
     "start_time": "2023-05-20T08:04:21.689110",
     "status": "completed"
    },
    "tags": []
   },
   "outputs": [],
   "source": [
    "X=pd.get_dummies(train_data[features])\n",
    "X_test = pd.get_dummies(test_data[features])"
   ]
  },
  {
   "cell_type": "code",
   "execution_count": 14,
   "id": "802cae5e",
   "metadata": {
    "execution": {
     "iopub.execute_input": "2023-05-20T08:04:21.732344Z",
     "iopub.status.busy": "2023-05-20T08:04:21.731682Z",
     "iopub.status.idle": "2023-05-20T08:04:22.001899Z",
     "shell.execute_reply": "2023-05-20T08:04:22.000291Z"
    },
    "papermill": {
     "duration": 0.281865,
     "end_time": "2023-05-20T08:04:22.004710",
     "exception": false,
     "start_time": "2023-05-20T08:04:21.722845",
     "status": "completed"
    },
    "tags": []
   },
   "outputs": [],
   "source": [
    "model= RandomForestClassifier(n_estimators=100, max_depth=5, random_state=1)\n",
    "model.fit(X,target)\n",
    "predictions = model.predict(X_test)"
   ]
  },
  {
   "cell_type": "code",
   "execution_count": 15,
   "id": "d932a4e9",
   "metadata": {
    "execution": {
     "iopub.execute_input": "2023-05-20T08:04:22.021463Z",
     "iopub.status.busy": "2023-05-20T08:04:22.020997Z",
     "iopub.status.idle": "2023-05-20T08:04:22.034943Z",
     "shell.execute_reply": "2023-05-20T08:04:22.033772Z"
    },
    "papermill": {
     "duration": 0.025788,
     "end_time": "2023-05-20T08:04:22.037883",
     "exception": false,
     "start_time": "2023-05-20T08:04:22.012095",
     "status": "completed"
    },
    "tags": []
   },
   "outputs": [],
   "source": [
    "output=pd.DataFrame({'PassengerId': test_data.PassengerId, 'Survived': predictions})\n",
    "output.to_csv('my_submission.csv', index=False)"
   ]
  },
  {
   "cell_type": "code",
   "execution_count": 16,
   "id": "5eeb2f40",
   "metadata": {
    "execution": {
     "iopub.execute_input": "2023-05-20T08:04:22.055136Z",
     "iopub.status.busy": "2023-05-20T08:04:22.054299Z",
     "iopub.status.idle": "2023-05-20T08:04:22.066133Z",
     "shell.execute_reply": "2023-05-20T08:04:22.064907Z"
    },
    "papermill": {
     "duration": 0.023898,
     "end_time": "2023-05-20T08:04:22.069126",
     "exception": false,
     "start_time": "2023-05-20T08:04:22.045228",
     "status": "completed"
    },
    "tags": []
   },
   "outputs": [
    {
     "data": {
      "text/html": [
       "<div>\n",
       "<style scoped>\n",
       "    .dataframe tbody tr th:only-of-type {\n",
       "        vertical-align: middle;\n",
       "    }\n",
       "\n",
       "    .dataframe tbody tr th {\n",
       "        vertical-align: top;\n",
       "    }\n",
       "\n",
       "    .dataframe thead th {\n",
       "        text-align: right;\n",
       "    }\n",
       "</style>\n",
       "<table border=\"1\" class=\"dataframe\">\n",
       "  <thead>\n",
       "    <tr style=\"text-align: right;\">\n",
       "      <th></th>\n",
       "      <th>PassengerId</th>\n",
       "      <th>Survived</th>\n",
       "    </tr>\n",
       "  </thead>\n",
       "  <tbody>\n",
       "    <tr>\n",
       "      <th>0</th>\n",
       "      <td>892</td>\n",
       "      <td>0</td>\n",
       "    </tr>\n",
       "    <tr>\n",
       "      <th>1</th>\n",
       "      <td>893</td>\n",
       "      <td>1</td>\n",
       "    </tr>\n",
       "    <tr>\n",
       "      <th>2</th>\n",
       "      <td>894</td>\n",
       "      <td>0</td>\n",
       "    </tr>\n",
       "    <tr>\n",
       "      <th>3</th>\n",
       "      <td>895</td>\n",
       "      <td>0</td>\n",
       "    </tr>\n",
       "    <tr>\n",
       "      <th>4</th>\n",
       "      <td>896</td>\n",
       "      <td>1</td>\n",
       "    </tr>\n",
       "  </tbody>\n",
       "</table>\n",
       "</div>"
      ],
      "text/plain": [
       "   PassengerId  Survived\n",
       "0          892         0\n",
       "1          893         1\n",
       "2          894         0\n",
       "3          895         0\n",
       "4          896         1"
      ]
     },
     "execution_count": 16,
     "metadata": {},
     "output_type": "execute_result"
    }
   ],
   "source": [
    "output.head()"
   ]
  },
  {
   "cell_type": "code",
   "execution_count": null,
   "id": "ba3b03d2",
   "metadata": {
    "papermill": {
     "duration": 0.00725,
     "end_time": "2023-05-20T08:04:22.084817",
     "exception": false,
     "start_time": "2023-05-20T08:04:22.077567",
     "status": "completed"
    },
    "tags": []
   },
   "outputs": [],
   "source": []
  }
 ],
 "metadata": {
  "kernelspec": {
   "display_name": "Python 3 (ipykernel)",
   "language": "python",
   "name": "python3"
  },
  "language_info": {
   "codemirror_mode": {
    "name": "ipython",
    "version": 3
   },
   "file_extension": ".py",
   "mimetype": "text/x-python",
   "name": "python",
   "nbconvert_exporter": "python",
   "pygments_lexer": "ipython3",
   "version": "3.9.13"
  },
  "papermill": {
   "default_parameters": {},
   "duration": 17.629464,
   "end_time": "2023-05-20T08:04:23.115515",
   "environment_variables": {},
   "exception": null,
   "input_path": "__notebook__.ipynb",
   "output_path": "__notebook__.ipynb",
   "parameters": {},
   "start_time": "2023-05-20T08:04:05.486051",
   "version": "2.4.0"
  }
 },
 "nbformat": 4,
 "nbformat_minor": 5
}
